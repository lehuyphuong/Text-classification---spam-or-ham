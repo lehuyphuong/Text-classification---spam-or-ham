{
  "nbformat": 4,
  "nbformat_minor": 0,
  "metadata": {
    "colab": {
      "provenance": [],
      "authorship_tag": "ABX9TyOUlx2bSY0rFQagy8qfyTw3",
      "include_colab_link": true
    },
    "kernelspec": {
      "name": "python3",
      "display_name": "Python 3"
    },
    "language_info": {
      "name": "python"
    }
  },
  "cells": [
    {
      "cell_type": "markdown",
      "metadata": {
        "id": "view-in-github",
        "colab_type": "text"
      },
      "source": [
        "<a href=\"https://colab.research.google.com/github/lehuyphuong/Text-classification---spam-or-ham/blob/develop/Text_classification.ipynb\" target=\"_parent\"><img src=\"https://colab.research.google.com/assets/colab-badge.svg\" alt=\"Open In Colab\"/></a>"
      ]
    },
    {
      "cell_type": "code",
      "execution_count": null,
      "metadata": {
        "colab": {
          "base_uri": "https://localhost:8080/"
        },
        "id": "qKnIUHigcocd",
        "outputId": "0a139155-a29d-448a-ac6c-860efc1eefa7"
      },
      "outputs": [
        {
          "output_type": "stream",
          "name": "stdout",
          "text": [
            "/usr/local/lib/python3.10/dist-packages/gdown/__main__.py:132: FutureWarning: Option `--id` was deprecated in version 4.3.1 and will be removed in 5.0. You don't need to pass it anymore to use a file ID.\n",
            "  warnings.warn(\n",
            "Downloading...\n",
            "From: https://drive.google.com/uc?id=1N7rk-kfnDFIGMeX0ROVTjKh71gcgx-7R\n",
            "To: /content/2cls_spam_text_cls.csv\n",
            "100% 486k/486k [00:00<00:00, 82.1MB/s]\n"
          ]
        }
      ],
      "source": [
        "!gdown --id 1N7rk-kfnDFIGMeX0ROVTjKh71gcgx-7R"
      ]
    },
    {
      "cell_type": "markdown",
      "source": [
        "#####**Import libraries**"
      ],
      "metadata": {
        "id": "_SSxChcHdMCd"
      }
    },
    {
      "cell_type": "code",
      "source": [
        "import string\n",
        "import nltk\n",
        "nltk.download ('stopwords')\n",
        "nltk.download ('punkt')\n",
        "import pandas as pd\n",
        "import numpy as np\n",
        "import matplotlib.pyplot as plt\n",
        "from sklearn.model_selection import train_test_split\n",
        "from sklearn.naive_bayes import GaussianNB\n",
        "from sklearn.metrics import accuracy_score\n",
        "from sklearn.preprocessing import LabelEncoder"
      ],
      "metadata": {
        "colab": {
          "base_uri": "https://localhost:8080/"
        },
        "id": "rLlDlHlBdPF2",
        "outputId": "df374bc5-863a-417b-bf6b-9b99ae2587e3"
      },
      "execution_count": null,
      "outputs": [
        {
          "output_type": "stream",
          "name": "stderr",
          "text": [
            "[nltk_data] Downloading package stopwords to /root/nltk_data...\n",
            "[nltk_data]   Unzipping corpora/stopwords.zip.\n",
            "[nltk_data] Downloading package punkt to /root/nltk_data...\n",
            "[nltk_data]   Unzipping tokenizers/punkt.zip.\n"
          ]
        }
      ]
    },
    {
      "cell_type": "markdown",
      "source": [
        "#####**Read data**"
      ],
      "metadata": {
        "id": "qkYFTWE8dhD_"
      }
    },
    {
      "cell_type": "code",
      "source": [
        "DATASET_PATH = '/content/2cls_spam_text_cls.csv'\n",
        "df = pd.read_csv(DATASET_PATH)\n",
        "\n",
        "messages = df['Message'].values.tolist()\n",
        "labels = df['Category'].values.tolist()"
      ],
      "metadata": {
        "id": "hDkzHQ2fdlRc"
      },
      "execution_count": null,
      "outputs": []
    },
    {
      "cell_type": "markdown",
      "source": [
        "#####**Preprocess text**"
      ],
      "metadata": {
        "id": "jZBqoA4JeJBn"
      }
    },
    {
      "cell_type": "code",
      "source": [
        "def lowercase(text):\n",
        "  return text.lower()\n",
        "\n",
        "def punctuation_removal(text):\n",
        "  translator = str.maketrans('', '', string.punctuation)\n",
        "  return text.translate(translator)\n",
        "\n",
        "def tokenize(text):\n",
        "  return nltk.word_tokenize(text)\n",
        "\n",
        "def remove_stopwords(tokens):\n",
        "  stop_words = nltk.corpus.stopwords.words('english')\n",
        "  return [token for token in tokens if token not in stop_words]\n",
        "\n",
        "def stemming(tokens):\n",
        "  stemmer = nltk.PorterStemmer()\n",
        "\n",
        "  return [stemmer.stem(token) for token in tokens]\n",
        "\n",
        "def preprocess_text(text):\n",
        "  text = lowercase(text)\n",
        "  text = punctuation_removal(text)\n",
        "  tokens = tokenize(text)\n",
        "  tokens = remove_stopwords(tokens)\n",
        "  tokens = stemming(tokens)\n",
        "  return tokens\n",
        "\n",
        "  messages = [preprocess_text(message) for message in messages]"
      ],
      "metadata": {
        "id": "nNeuElLfeMWE"
      },
      "execution_count": null,
      "outputs": []
    },
    {
      "cell_type": "markdown",
      "source": [
        "#####**Create dictionary**"
      ],
      "metadata": {
        "id": "eukVL9sbf-C8"
      }
    },
    {
      "cell_type": "code",
      "source": [
        "def create_dictionary(messages):\n",
        "  dictionary = []\n",
        "  for token in messages:\n",
        "    if token not in dictionary:\n",
        "      dictionary.append(token)\n",
        "\n",
        "  return dictionary\n",
        "\n",
        "dictionary = create_dictionary(messages)"
      ],
      "metadata": {
        "id": "A-d16b_HgBB6"
      },
      "execution_count": null,
      "outputs": []
    },
    {
      "cell_type": "markdown",
      "source": [
        "#####**Create feature**"
      ],
      "metadata": {
        "id": "DOlUpm25ghW9"
      }
    },
    {
      "cell_type": "code",
      "source": [
        "def create_features(tokens, dictionary):\n",
        "  features = np.zeros(len(dictionary))\n",
        "  for token in tokens:\n",
        "    if token in dictionary:\n",
        "      features[dictionary.index(token)] += 1\n",
        "  return features\n",
        "\n",
        "X = np.array([create_features(tokens, dictionary) for tokens in messages])"
      ],
      "metadata": {
        "id": "b1nA2dxAgpro"
      },
      "execution_count": null,
      "outputs": []
    },
    {
      "cell_type": "markdown",
      "source": [
        "#####**Label feature**"
      ],
      "metadata": {
        "id": "SJOJVZVxhOxd"
      }
    },
    {
      "cell_type": "code",
      "source": [
        "le = LabelEncoder()\n",
        "y = le.fit_transform(labels)\n",
        "print(f'Classes: {le.classes_}')\n",
        "print(f'Encoded labels: {y}')"
      ],
      "metadata": {
        "colab": {
          "base_uri": "https://localhost:8080/"
        },
        "id": "pEXhdRoHhXjI",
        "outputId": "1f669519-d53c-4783-8b1d-b51b8564f06b"
      },
      "execution_count": null,
      "outputs": [
        {
          "output_type": "stream",
          "name": "stdout",
          "text": [
            "Classes: ['ham' 'spam']\n",
            "Encoded labels: [0 0 1 ... 0 0 0]\n"
          ]
        }
      ]
    },
    {
      "cell_type": "markdown",
      "source": [
        "#####**Seperate train/val/test**"
      ],
      "metadata": {
        "id": "egpCfcG7h08G"
      }
    },
    {
      "cell_type": "code",
      "source": [
        "VAL_SIZE = 0.2\n",
        "TEST_SIZE = 0.125\n",
        "SEED = 0\n",
        "\n",
        "X_train, X_val, y_train, y_val = train_test_split(X, y,\n",
        "                                                  test_size = VAL_SIZE,\n",
        "                                                  shuffle=True,\n",
        "                                                  random_state=SEED)\n",
        "\n",
        "X_train, X_test, y_train, y_test = train_test_split(X_train, y_train,\n",
        "                                                  test_size = TEST_SIZE,\n",
        "                                                  shuffle=True,\n",
        "                                                  random_state=SEED)"
      ],
      "metadata": {
        "id": "bU5jzfFzhz1a"
      },
      "execution_count": null,
      "outputs": []
    },
    {
      "cell_type": "markdown",
      "source": [
        "#####**Train model**"
      ],
      "metadata": {
        "id": "79uK6j-uijD0"
      }
    },
    {
      "cell_type": "code",
      "source": [
        "model = GaussianNB ()\n",
        "print(\"start training...\")\n",
        "model = model.fit(X_train, y_train)\n",
        "print(\"finished \")"
      ],
      "metadata": {
        "colab": {
          "base_uri": "https://localhost:8080/"
        },
        "id": "7x6PKPwYims7",
        "outputId": "fb06010e-afa3-4102-c9bd-12ef6d93d8ae"
      },
      "execution_count": null,
      "outputs": [
        {
          "output_type": "stream",
          "name": "stdout",
          "text": [
            "start training...\n",
            "finished \n"
          ]
        }
      ]
    },
    {
      "cell_type": "markdown",
      "source": [
        "#####**Validate model**"
      ],
      "metadata": {
        "id": "uUwNMQGMiyWz"
      }
    },
    {
      "cell_type": "code",
      "source": [
        "def predict(text, model, dictionary):\n",
        "  processed_text = preprocess_text(text)\n",
        "  features = create_features(text, dictionary)\n",
        "  features = np.array(features).reshape(1, -1)\n",
        "  prediction = model.predict(features)\n",
        "  prediction_cls = le.inverse_transform(prediction)[0]\n",
        "  return prediction_cls\n",
        "\n",
        "test_input = 'I am actually thinking a way of doing something useful'\n",
        "preidction_cls = predict(test_input, model, dictionary)\n",
        "print(f\"Prediction{preidction_cls}\")"
      ],
      "metadata": {
        "colab": {
          "base_uri": "https://localhost:8080/"
        },
        "id": "9zPcZ1jii09u",
        "outputId": "00a12a38-18f1-47a1-9508-32dc31226765"
      },
      "execution_count": null,
      "outputs": [
        {
          "output_type": "stream",
          "name": "stdout",
          "text": [
            "Predictionham\n"
          ]
        },
        {
          "output_type": "stream",
          "name": "stderr",
          "text": [
            "/usr/local/lib/python3.10/dist-packages/sklearn/naive_bayes.py:510: RuntimeWarning: divide by zero encountered in log\n",
            "  n_ij = -0.5 * np.sum(np.log(2.0 * np.pi * self.var_[i, :]))\n",
            "/usr/local/lib/python3.10/dist-packages/sklearn/naive_bayes.py:511: RuntimeWarning: invalid value encountered in divide\n",
            "  n_ij -= 0.5 * np.sum(((X - self.theta_[i, :]) ** 2) / (self.var_[i, :]), 1)\n"
          ]
        }
      ]
    }
  ]
}